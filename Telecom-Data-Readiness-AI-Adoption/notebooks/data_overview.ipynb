{
 "cells": [
  {
   "cell_type": "markdown",
   "metadata": {},
   "source": ["# Telecom Data Overview"]
  },
  {
   "cell_type": "code",
   "execution_count": null,
   "metadata": {},
   "outputs": [],
   "source": ["import pandas as pd\ndf = pd.read_csv('../data/raw/customers.csv')\ndf.head()"]
  }
 ],
 "metadata": {},
 "nbformat": 4,
 "nbformat_minor": 2
}
